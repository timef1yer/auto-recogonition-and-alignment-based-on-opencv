{
 "cells": [
  {
   "cell_type": "code",
   "execution_count": 1,
   "id": "56282bc2-4cf2-4935-a984-16c215d8c310",
   "metadata": {},
   "outputs": [],
   "source": [
    "import os\n",
    "\n",
    "def generate_lisp_file(image_folder, coordinates):\n",
    "    lisp_code = '(setq image_folder \"{0}\")\\n'.format(image_folder)\n",
    "    lisp_code += '''\n",
    "(defun align (image_name alignment_point)\n",
    "  (setq image_entity (entlast))\n",
    "  (setq image_insertion_point (cdr (assoc 10 (entget image_entity))))\n",
    "  (setq dx (- (car alignment_point) (car image_insertion_point)))\n",
    "  (setq dy (- (cadr alignment_point) (cadr image_insertion_point)))\n",
    "  (entmod (subst (cons 10 (list (+ (car image_insertion_point) dx) (+ (cadr image_insertion_point) dy))) (assoc 10 (entget image_entity)) (entget image_entity)))\n",
    "  (entmod (subst (cons 11 (list (+ (car image_insertion_point) dx) (+ (cadr image_insertion_point) dy) 0.0)) (assoc 11 (entget image_entity)) (entget image_entity)))\n",
    "  (entmod (subst (cons 12 (list (+ (car image_insertion_point) dx) (+ (cadr image_insertion_point) dy) 0.0)) (assoc 12 (entget image_entity)) (entget image_entity)))\n",
    "  (entmod (subst (cons 13 (list (+ (car image_insertion_point) dx) (+ (cadr image_insertion_point) dy) 0.0)) (assoc 13 (entget image_entity)) (entget image_entity)))\n",
    ")'''\n",
    "\n",
    "    for filename, coordinate in coordinates.items():\n",
    "        image_path = os.path.join(image_folder, filename)\n",
    "        #insertion_point = coordinate['insertion_point']\n",
    "        #width = coordinate['width']\n",
    "        #height = coordinate['height']\n",
    "        insertion_point = '(0 0 0)'\n",
    "        width = 2560\n",
    "        height = 1922\n",
    "        \n",
    "        lisp_code += '\\n(align \"{0}\" {1})\\n'.format(image_path, insertion_point)\n",
    "\n",
    "    with open('import_images.lsp', 'w') as file:\n",
    "        file.write(lisp_code)\n",
    "\n",
    "# Example usage\n",
    "image_folder = 'C:/Users/wuyx0/Desktop/coda/autoalign/pics2'\n",
    "coordinates = {\n",
    "    '1.jpg': {\n",
    "        'insertion_point': '(10.0 10.0 0.0)',\n",
    "        'width': 100.0,\n",
    "        'height': 100.0\n",
    "    }\n",
    "}\n",
    "\n",
    "generate_lisp_file(image_folder, coordinates)"
   ]
  },
  {
   "cell_type": "code",
   "execution_count": null,
   "id": "a4270db3-5b71-4936-9959-cb5c40475019",
   "metadata": {},
   "outputs": [],
   "source": []
  }
 ],
 "metadata": {
  "kernelspec": {
   "display_name": "Python 3 (ipykernel)",
   "language": "python",
   "name": "python3"
  },
  "language_info": {
   "codemirror_mode": {
    "name": "ipython",
    "version": 3
   },
   "file_extension": ".py",
   "mimetype": "text/x-python",
   "name": "python",
   "nbconvert_exporter": "python",
   "pygments_lexer": "ipython3",
   "version": "3.9.8"
  }
 },
 "nbformat": 4,
 "nbformat_minor": 5
}
